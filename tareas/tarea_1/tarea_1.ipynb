{
 "cells": [
  {
   "cell_type": "markdown",
   "metadata": {},
   "source": [
    "Preguntas a responder:\n",
    "\n",
    "¿Hay variables que sean fuertemente influyentes en la felicidad de las personas?\n",
    "¿Como se ve la felicidad de los países puesto en gráficas para realizar un análisis visual?\n",
    "¿Que tan feliz es en general el mundo (media de felicidad)?\n",
    "\n",
    "Este EDA se va a enfocar a realizar análisis visual de los datos, se quiere ver con esto muchos datos tales como, países con mayor felicidad, con mayor PBI, con mayor esperanza de vida, etc."
   ]
  },
  {
   "cell_type": "code",
   "execution_count": 1,
   "metadata": {},
   "outputs": [
    {
     "name": "stdout",
     "output_type": "stream",
     "text": [
      "                   Country name  Happiness scale  \\\n",
      "Regional indicator                                 \n",
      "Western Europe          Finland            7.842   \n",
      "Western Europe          Denmark            7.620   \n",
      "Western Europe      Switzerland            7.571   \n",
      "Western Europe          Iceland            7.554   \n",
      "Western Europe      Netherlands            7.464   \n",
      "...                         ...              ...   \n",
      "Sub-Saharan Africa      Lesotho            3.512   \n",
      "Sub-Saharan Africa     Botswana            3.467   \n",
      "Sub-Saharan Africa       Rwanda            3.415   \n",
      "Sub-Saharan Africa     Zimbabwe            3.145   \n",
      "South Asia          Afghanistan            2.523   \n",
      "\n",
      "                    Standard error of happiness scale  upperwhisker  \\\n",
      "Regional indicator                                                    \n",
      "Western Europe                                  0.032         7.904   \n",
      "Western Europe                                  0.035         7.687   \n",
      "Western Europe                                  0.036         7.643   \n",
      "Western Europe                                  0.059         7.670   \n",
      "Western Europe                                  0.027         7.518   \n",
      "...                                               ...           ...   \n",
      "Sub-Saharan Africa                              0.120         3.748   \n",
      "Sub-Saharan Africa                              0.074         3.611   \n",
      "Sub-Saharan Africa                              0.068         3.548   \n",
      "Sub-Saharan Africa                              0.058         3.259   \n",
      "South Asia                                      0.038         2.596   \n",
      "\n",
      "                    lowerwhisker  Logged PBI per capita  Social support  \\\n",
      "Regional indicator                                                        \n",
      "Western Europe             7.780                 10.775           0.954   \n",
      "Western Europe             7.552                 10.933           0.954   \n",
      "Western Europe             7.500                 11.117           0.942   \n",
      "Western Europe             7.438                 10.878           0.983   \n",
      "Western Europe             7.410                 10.932           0.942   \n",
      "...                          ...                    ...             ...   \n",
      "Sub-Saharan Africa         3.276                  7.926           0.787   \n",
      "Sub-Saharan Africa         3.322                  9.782           0.784   \n",
      "Sub-Saharan Africa         3.282                  7.676           0.552   \n",
      "Sub-Saharan Africa         3.030                  7.943           0.750   \n",
      "South Asia                 2.449                  7.695           0.463   \n",
      "\n",
      "                    Healthy life expectancy  Freedom to make life choices  \\\n",
      "Regional indicator                                                          \n",
      "Western Europe                       72.000                         0.949   \n",
      "Western Europe                       72.700                         0.946   \n",
      "Western Europe                       74.400                         0.919   \n",
      "Western Europe                       73.000                         0.955   \n",
      "Western Europe                       72.400                         0.913   \n",
      "...                                     ...                           ...   \n",
      "Sub-Saharan Africa                   48.700                         0.715   \n",
      "Sub-Saharan Africa                   59.269                         0.824   \n",
      "Sub-Saharan Africa                   61.400                         0.897   \n",
      "Sub-Saharan Africa                   56.201                         0.677   \n",
      "South Asia                           52.493                         0.382   \n",
      "\n",
      "                    Generosity  Perceptions of corruption  Score in Dystopia  \n",
      "Regional indicator                                                            \n",
      "Western Europe          -0.098                      0.186               2.43  \n",
      "Western Europe           0.030                      0.179               2.43  \n",
      "Western Europe           0.025                      0.292               2.43  \n",
      "Western Europe           0.160                      0.673               2.43  \n",
      "Western Europe           0.175                      0.338               2.43  \n",
      "...                        ...                        ...                ...  \n",
      "Sub-Saharan Africa      -0.131                      0.915               2.43  \n",
      "Sub-Saharan Africa      -0.246                      0.801               2.43  \n",
      "Sub-Saharan Africa       0.061                      0.167               2.43  \n",
      "Sub-Saharan Africa      -0.047                      0.821               2.43  \n",
      "South Asia              -0.102                      0.924               2.43  \n",
      "\n",
      "[149 rows x 12 columns]\n"
     ]
    }
   ],
   "source": [
    "import pandas as pd\n",
    "import numpy as np\n",
    "\n",
    "data = pd.read_csv('dataset_resultante_tarea_1.csv', index_col=1)\n",
    "\n",
    "print(data)"
   ]
  },
  {
   "cell_type": "markdown",
   "metadata": {},
   "source": [
    "Primeramente leemos el csv y verificamos que efectivamente esta todo bien de como lo dejamos en google refine."
   ]
  },
  {
   "cell_type": "code",
   "execution_count": 18,
   "metadata": {},
   "outputs": [
    {
     "data": {
      "text/html": [
       "<div>\n",
       "<style scoped>\n",
       "    .dataframe tbody tr th:only-of-type {\n",
       "        vertical-align: middle;\n",
       "    }\n",
       "\n",
       "    .dataframe tbody tr th {\n",
       "        vertical-align: top;\n",
       "    }\n",
       "\n",
       "    .dataframe thead th {\n",
       "        text-align: right;\n",
       "    }\n",
       "</style>\n",
       "<table border=\"1\" class=\"dataframe\">\n",
       "  <thead>\n",
       "    <tr style=\"text-align: right;\">\n",
       "      <th></th>\n",
       "      <th>Happiness scale</th>\n",
       "      <th>Standard error of happiness scale</th>\n",
       "      <th>upperwhisker</th>\n",
       "      <th>lowerwhisker</th>\n",
       "      <th>Logged PBI per capita</th>\n",
       "      <th>Social support</th>\n",
       "      <th>Healthy life expectancy</th>\n",
       "      <th>Freedom to make life choices</th>\n",
       "      <th>Generosity</th>\n",
       "      <th>Perceptions of corruption</th>\n",
       "      <th>Score in Dystopia</th>\n",
       "    </tr>\n",
       "  </thead>\n",
       "  <tbody>\n",
       "    <tr>\n",
       "      <th>count</th>\n",
       "      <td>149.000</td>\n",
       "      <td>149.000</td>\n",
       "      <td>149.000</td>\n",
       "      <td>149.000</td>\n",
       "      <td>149.000</td>\n",
       "      <td>149.000</td>\n",
       "      <td>149.000</td>\n",
       "      <td>149.000</td>\n",
       "      <td>149.000</td>\n",
       "      <td>149.000</td>\n",
       "      <td>149.000</td>\n",
       "    </tr>\n",
       "    <tr>\n",
       "      <th>mean</th>\n",
       "      <td>5.533</td>\n",
       "      <td>0.059</td>\n",
       "      <td>5.648</td>\n",
       "      <td>5.418</td>\n",
       "      <td>9.432</td>\n",
       "      <td>0.815</td>\n",
       "      <td>64.993</td>\n",
       "      <td>0.792</td>\n",
       "      <td>-0.015</td>\n",
       "      <td>0.727</td>\n",
       "      <td>2.430</td>\n",
       "    </tr>\n",
       "    <tr>\n",
       "      <th>std</th>\n",
       "      <td>1.074</td>\n",
       "      <td>0.022</td>\n",
       "      <td>1.054</td>\n",
       "      <td>1.095</td>\n",
       "      <td>1.159</td>\n",
       "      <td>0.115</td>\n",
       "      <td>6.762</td>\n",
       "      <td>0.113</td>\n",
       "      <td>0.151</td>\n",
       "      <td>0.179</td>\n",
       "      <td>0.000</td>\n",
       "    </tr>\n",
       "    <tr>\n",
       "      <th>min</th>\n",
       "      <td>2.523</td>\n",
       "      <td>0.026</td>\n",
       "      <td>2.596</td>\n",
       "      <td>2.449</td>\n",
       "      <td>6.635</td>\n",
       "      <td>0.463</td>\n",
       "      <td>48.478</td>\n",
       "      <td>0.382</td>\n",
       "      <td>-0.288</td>\n",
       "      <td>0.082</td>\n",
       "      <td>2.430</td>\n",
       "    </tr>\n",
       "    <tr>\n",
       "      <th>25%</th>\n",
       "      <td>4.852</td>\n",
       "      <td>0.043</td>\n",
       "      <td>4.991</td>\n",
       "      <td>4.706</td>\n",
       "      <td>8.541</td>\n",
       "      <td>0.750</td>\n",
       "      <td>59.802</td>\n",
       "      <td>0.718</td>\n",
       "      <td>-0.126</td>\n",
       "      <td>0.667</td>\n",
       "      <td>2.430</td>\n",
       "    </tr>\n",
       "    <tr>\n",
       "      <th>50%</th>\n",
       "      <td>5.534</td>\n",
       "      <td>0.054</td>\n",
       "      <td>5.625</td>\n",
       "      <td>5.413</td>\n",
       "      <td>9.569</td>\n",
       "      <td>0.832</td>\n",
       "      <td>66.603</td>\n",
       "      <td>0.804</td>\n",
       "      <td>-0.036</td>\n",
       "      <td>0.781</td>\n",
       "      <td>2.430</td>\n",
       "    </tr>\n",
       "    <tr>\n",
       "      <th>75%</th>\n",
       "      <td>6.255</td>\n",
       "      <td>0.070</td>\n",
       "      <td>6.344</td>\n",
       "      <td>6.128</td>\n",
       "      <td>10.421</td>\n",
       "      <td>0.905</td>\n",
       "      <td>69.600</td>\n",
       "      <td>0.877</td>\n",
       "      <td>0.079</td>\n",
       "      <td>0.845</td>\n",
       "      <td>2.430</td>\n",
       "    </tr>\n",
       "    <tr>\n",
       "      <th>max</th>\n",
       "      <td>7.842</td>\n",
       "      <td>0.173</td>\n",
       "      <td>7.904</td>\n",
       "      <td>7.780</td>\n",
       "      <td>11.647</td>\n",
       "      <td>0.983</td>\n",
       "      <td>76.953</td>\n",
       "      <td>0.970</td>\n",
       "      <td>0.542</td>\n",
       "      <td>0.939</td>\n",
       "      <td>2.430</td>\n",
       "    </tr>\n",
       "  </tbody>\n",
       "</table>\n",
       "</div>"
      ],
      "text/plain": [
       "       Happiness scale  Standard error of happiness scale  upperwhisker  \\\n",
       "count          149.000                            149.000       149.000   \n",
       "mean             5.533                              0.059         5.648   \n",
       "std              1.074                              0.022         1.054   \n",
       "min              2.523                              0.026         2.596   \n",
       "25%              4.852                              0.043         4.991   \n",
       "50%              5.534                              0.054         5.625   \n",
       "75%              6.255                              0.070         6.344   \n",
       "max              7.842                              0.173         7.904   \n",
       "\n",
       "       lowerwhisker  Logged PBI per capita  Social support  \\\n",
       "count       149.000                149.000         149.000   \n",
       "mean          5.418                  9.432           0.815   \n",
       "std           1.095                  1.159           0.115   \n",
       "min           2.449                  6.635           0.463   \n",
       "25%           4.706                  8.541           0.750   \n",
       "50%           5.413                  9.569           0.832   \n",
       "75%           6.128                 10.421           0.905   \n",
       "max           7.780                 11.647           0.983   \n",
       "\n",
       "       Healthy life expectancy  Freedom to make life choices  Generosity  \\\n",
       "count                  149.000                       149.000     149.000   \n",
       "mean                    64.993                         0.792      -0.015   \n",
       "std                      6.762                         0.113       0.151   \n",
       "min                     48.478                         0.382      -0.288   \n",
       "25%                     59.802                         0.718      -0.126   \n",
       "50%                     66.603                         0.804      -0.036   \n",
       "75%                     69.600                         0.877       0.079   \n",
       "max                     76.953                         0.970       0.542   \n",
       "\n",
       "       Perceptions of corruption  Score in Dystopia  \n",
       "count                    149.000            149.000  \n",
       "mean                       0.727              2.430  \n",
       "std                        0.179              0.000  \n",
       "min                        0.082              2.430  \n",
       "25%                        0.667              2.430  \n",
       "50%                        0.781              2.430  \n",
       "75%                        0.845              2.430  \n",
       "max                        0.939              2.430  "
      ]
     },
     "execution_count": 18,
     "metadata": {},
     "output_type": "execute_result"
    }
   ],
   "source": [
    "pd.options.display.float_format = \"{:.3f}\".format\n",
    "data.describe()"
   ]
  },
  {
   "cell_type": "markdown",
   "metadata": {},
   "source": [
    "Aquí podemos ver algunas estadísticas importantes del dataset tales como los cuartiles, media, min y maximo para cada uno de los atributos."
   ]
  },
  {
   "cell_type": "code",
   "execution_count": 5,
   "metadata": {},
   "outputs": [
    {
     "data": {
      "image/png": "[encoded data removed]",
      "text/plain": [
       "<Figure size 432x288 with 1 Axes>"
      ]
     },
     "metadata": {
      "needs_background": "light"
     },
     "output_type": "display_data"
    },
    {
     "data": {
      "image/png": "[encoded data removed]",
      "text/plain": [
       "<Figure size 432x288 with 1 Axes>"
      ]
     },
     "metadata": {
      "needs_background": "light"
     },
     "output_type": "display_data"
    },
    {
     "data": {
      "image/png": "[encoded data removed]",
      "text/plain": [
       "<Figure size 432x288 with 1 Axes>"
      ]
     },
     "metadata": {
      "needs_background": "light"
     },
     "output_type": "display_data"
    },
    {
     "data": {
      "image/png": "[encoded data removed]",
      "text/plain": [
       "<Figure size 432x288 with 1 Axes>"
      ]
     },
     "metadata": {
      "needs_background": "light"
     },
     "output_type": "display_data"
    },
    {
     "data": {
      "image/png": "[encoded data removed]",
      "text/plain": [
       "<Figure size 432x288 with 1 Axes>"
      ]
     },
     "metadata": {
      "needs_background": "light"
     },
     "output_type": "display_data"
    },
    {
     "data": {
      "image/png": "[encoded data removed]",
      "text/plain": [
       "<Figure size 432x288 with 1 Axes>"
      ]
     },
     "metadata": {
      "needs_background": "light"
     },
     "output_type": "display_data"
    },
    {
     "data": {
      "image/png": "[encoded data removed]",
      "text/plain": [
       "<Figure size 432x288 with 1 Axes>"
      ]
     },
     "metadata": {
      "needs_background": "light"
     },
     "output_type": "display_data"
    }
   ],
   "source": [
    "histogram = data.hist(column='Happiness scale')\n",
    "histogram = data.hist(column='Logged PBI per capita')\n",
    "histogram = data.hist(column='Social support')\n",
    "histogram = data.hist(column='Healthy life expectancy')\n",
    "histogram = data.hist(column='Freedom to make life choices')\n",
    "histogram = data.hist(column='Generosity')\n",
    "histogram = data.hist(column='Perceptions of corruption')"
   ]
  },
  {
   "cell_type": "markdown",
   "metadata": {},
   "source": [
    "De estos histogramas podemos extraer mucha información, por ejemplo que en la mayoría de los paises la esperanza de vida es superior a los 55 años (información curiosa cuanto menos ya que se pensaría que lo normal es que los datos esten en torno a los 70 años y realmente hay bastantes datos inferiores a este). También podemos observar que en general en el mundo hay una alta percepción de la corrupción y que el nivel de generosidad en la mayoria de los paises es muy baja, dato muy triste."
   ]
  },
  {
   "cell_type": "code",
   "execution_count": 19,
   "metadata": {},
   "outputs": [
    {
     "name": "stdout",
     "output_type": "stream",
     "text": [
      "Correlaciones de los atributos con happiness scale (correlaciones de Spearman)\n",
      "Logged PBI per capita: 0.8094072448957933\n",
      "Social support: 0.7979930276367034\n",
      "Healthy life expectancy: 0.7968622742533681\n",
      "Freedom to make life choices: 0.6070860094955972\n",
      "Generosity: -0.007643045211751676\n",
      "Perceptions of corruption: -0.3008334112259268\n"
     ]
    }
   ],
   "source": [
    "print(\"Correlaciones de los atributos con happiness scale (correlaciones de Spearman)\")\n",
    "print(\"Logged PBI per capita: \" + str(data['Happiness scale'].corr(data['Logged PBI per capita'], method='spearman')))\n",
    "print(\"Social support: \" + str(data['Happiness scale'].corr(data['Social support'], method='spearman')))\n",
    "print(\"Healthy life expectancy: \" + str(data['Happiness scale'].corr(data['Healthy life expectancy'], method='spearman')))\n",
    "print(\"Freedom to make life choices: \" + str(data['Happiness scale'].corr(data['Freedom to make life choices'], method='spearman')))\n",
    "print(\"Generosity: \" + str(data['Happiness scale'].corr(data['Generosity'], method='spearman')))\n",
    "print(\"Perceptions of corruption: \" + str(data['Happiness scale'].corr(data['Perceptions of corruption'], method='spearman')))"
   ]
  },
  {
   "cell_type": "markdown",
   "metadata": {},
   "source": [
    "Las correlaciones de Spearman lo que buscan es una relación de crecimiento o decrecimiento entre dos atributos, en este caso podemos observar que hay una alta correlación entre la felicidad y el PBI, social support y esperanza de vida. Lo que quiere decir que a cuanto más hay de estos atributos, más feliz se es.\n",
    "Es curioso como parece no ser de tanta importancia el tener libertad para la toma de desiciones en la vida para ser más feliz ya que la correlación de estos atributos es de 0.60 lo cual es bajo en compración con los anteriormente mencionados que eran de 0.79 y 0.80. \n",
    "Finalmente, los atributos restantes parecen ser inversos a la felicidad, de manera que si uno crece el otro decrece y viceversa."
   ]
  },
  {
   "cell_type": "code",
   "execution_count": 20,
   "metadata": {},
   "outputs": [
    {
     "data": {
      "text/html": [
       "<div>\n",
       "<style scoped>\n",
       "    .dataframe tbody tr th:only-of-type {\n",
       "        vertical-align: middle;\n",
       "    }\n",
       "\n",
       "    .dataframe tbody tr th {\n",
       "        vertical-align: top;\n",
       "    }\n",
       "\n",
       "    .dataframe thead th {\n",
       "        text-align: right;\n",
       "    }\n",
       "</style>\n",
       "<table border=\"1\" class=\"dataframe\">\n",
       "  <thead>\n",
       "    <tr style=\"text-align: right;\">\n",
       "      <th></th>\n",
       "      <th>Happiness scale</th>\n",
       "      <th>Standard error of happiness scale</th>\n",
       "      <th>upperwhisker</th>\n",
       "      <th>lowerwhisker</th>\n",
       "      <th>Logged PBI per capita</th>\n",
       "      <th>Social support</th>\n",
       "      <th>Healthy life expectancy</th>\n",
       "      <th>Freedom to make life choices</th>\n",
       "      <th>Generosity</th>\n",
       "      <th>Perceptions of corruption</th>\n",
       "      <th>Score in Dystopia</th>\n",
       "    </tr>\n",
       "  </thead>\n",
       "  <tbody>\n",
       "    <tr>\n",
       "      <th>Happiness scale</th>\n",
       "      <td>1.000</td>\n",
       "      <td>-0.471</td>\n",
       "      <td>0.999</td>\n",
       "      <td>0.999</td>\n",
       "      <td>0.790</td>\n",
       "      <td>0.757</td>\n",
       "      <td>0.768</td>\n",
       "      <td>0.608</td>\n",
       "      <td>-0.018</td>\n",
       "      <td>-0.421</td>\n",
       "      <td>-0.000</td>\n",
       "    </tr>\n",
       "    <tr>\n",
       "      <th>Standard error of happiness scale</th>\n",
       "      <td>-0.471</td>\n",
       "      <td>1.000</td>\n",
       "      <td>-0.439</td>\n",
       "      <td>-0.501</td>\n",
       "      <td>-0.646</td>\n",
       "      <td>-0.531</td>\n",
       "      <td>-0.584</td>\n",
       "      <td>-0.275</td>\n",
       "      <td>0.138</td>\n",
       "      <td>0.277</td>\n",
       "      <td>-0.000</td>\n",
       "    </tr>\n",
       "    <tr>\n",
       "      <th>upperwhisker</th>\n",
       "      <td>0.999</td>\n",
       "      <td>-0.439</td>\n",
       "      <td>1.000</td>\n",
       "      <td>0.997</td>\n",
       "      <td>0.778</td>\n",
       "      <td>0.749</td>\n",
       "      <td>0.758</td>\n",
       "      <td>0.608</td>\n",
       "      <td>-0.013</td>\n",
       "      <td>-0.418</td>\n",
       "      <td>-0.000</td>\n",
       "    </tr>\n",
       "    <tr>\n",
       "      <th>lowerwhisker</th>\n",
       "      <td>0.999</td>\n",
       "      <td>-0.501</td>\n",
       "      <td>0.997</td>\n",
       "      <td>1.000</td>\n",
       "      <td>0.800</td>\n",
       "      <td>0.763</td>\n",
       "      <td>0.776</td>\n",
       "      <td>0.607</td>\n",
       "      <td>-0.023</td>\n",
       "      <td>-0.424</td>\n",
       "      <td>-0.000</td>\n",
       "    </tr>\n",
       "    <tr>\n",
       "      <th>Logged PBI per capita</th>\n",
       "      <td>0.790</td>\n",
       "      <td>-0.646</td>\n",
       "      <td>0.778</td>\n",
       "      <td>0.800</td>\n",
       "      <td>1.000</td>\n",
       "      <td>0.785</td>\n",
       "      <td>0.859</td>\n",
       "      <td>0.432</td>\n",
       "      <td>-0.199</td>\n",
       "      <td>-0.342</td>\n",
       "      <td>-0.000</td>\n",
       "    </tr>\n",
       "    <tr>\n",
       "      <th>Social support</th>\n",
       "      <td>0.757</td>\n",
       "      <td>-0.531</td>\n",
       "      <td>0.749</td>\n",
       "      <td>0.763</td>\n",
       "      <td>0.785</td>\n",
       "      <td>1.000</td>\n",
       "      <td>0.723</td>\n",
       "      <td>0.483</td>\n",
       "      <td>-0.115</td>\n",
       "      <td>-0.203</td>\n",
       "      <td>-0.000</td>\n",
       "    </tr>\n",
       "    <tr>\n",
       "      <th>Healthy life expectancy</th>\n",
       "      <td>0.768</td>\n",
       "      <td>-0.584</td>\n",
       "      <td>0.758</td>\n",
       "      <td>0.776</td>\n",
       "      <td>0.859</td>\n",
       "      <td>0.723</td>\n",
       "      <td>1.000</td>\n",
       "      <td>0.461</td>\n",
       "      <td>-0.162</td>\n",
       "      <td>-0.364</td>\n",
       "      <td>-0.000</td>\n",
       "    </tr>\n",
       "    <tr>\n",
       "      <th>Freedom to make life choices</th>\n",
       "      <td>0.608</td>\n",
       "      <td>-0.275</td>\n",
       "      <td>0.608</td>\n",
       "      <td>0.607</td>\n",
       "      <td>0.432</td>\n",
       "      <td>0.483</td>\n",
       "      <td>0.461</td>\n",
       "      <td>1.000</td>\n",
       "      <td>0.169</td>\n",
       "      <td>-0.401</td>\n",
       "      <td>-0.000</td>\n",
       "    </tr>\n",
       "    <tr>\n",
       "      <th>Generosity</th>\n",
       "      <td>-0.018</td>\n",
       "      <td>0.138</td>\n",
       "      <td>-0.013</td>\n",
       "      <td>-0.023</td>\n",
       "      <td>-0.199</td>\n",
       "      <td>-0.115</td>\n",
       "      <td>-0.162</td>\n",
       "      <td>0.169</td>\n",
       "      <td>1.000</td>\n",
       "      <td>-0.164</td>\n",
       "      <td>-0.000</td>\n",
       "    </tr>\n",
       "    <tr>\n",
       "      <th>Perceptions of corruption</th>\n",
       "      <td>-0.421</td>\n",
       "      <td>0.277</td>\n",
       "      <td>-0.418</td>\n",
       "      <td>-0.424</td>\n",
       "      <td>-0.342</td>\n",
       "      <td>-0.203</td>\n",
       "      <td>-0.364</td>\n",
       "      <td>-0.401</td>\n",
       "      <td>-0.164</td>\n",
       "      <td>1.000</td>\n",
       "      <td>-0.000</td>\n",
       "    </tr>\n",
       "    <tr>\n",
       "      <th>Score in Dystopia</th>\n",
       "      <td>-0.000</td>\n",
       "      <td>-0.000</td>\n",
       "      <td>-0.000</td>\n",
       "      <td>-0.000</td>\n",
       "      <td>-0.000</td>\n",
       "      <td>-0.000</td>\n",
       "      <td>-0.000</td>\n",
       "      <td>-0.000</td>\n",
       "      <td>-0.000</td>\n",
       "      <td>-0.000</td>\n",
       "      <td>1.000</td>\n",
       "    </tr>\n",
       "  </tbody>\n",
       "</table>\n",
       "</div>"
      ],
      "text/plain": [
       "                                   Happiness scale  \\\n",
       "Happiness scale                              1.000   \n",
       "Standard error of happiness scale           -0.471   \n",
       "upperwhisker                                 0.999   \n",
       "lowerwhisker                                 0.999   \n",
       "Logged PBI per capita                        0.790   \n",
       "Social support                               0.757   \n",
       "Healthy life expectancy                      0.768   \n",
       "Freedom to make life choices                 0.608   \n",
       "Generosity                                  -0.018   \n",
       "Perceptions of corruption                   -0.421   \n",
       "Score in Dystopia                           -0.000   \n",
       "\n",
       "                                   Standard error of happiness scale  \\\n",
       "Happiness scale                                               -0.471   \n",
       "Standard error of happiness scale                              1.000   \n",
       "upperwhisker                                                  -0.439   \n",
       "lowerwhisker                                                  -0.501   \n",
       "Logged PBI per capita                                         -0.646   \n",
       "Social support                                                -0.531   \n",
       "Healthy life expectancy                                       -0.584   \n",
       "Freedom to make life choices                                  -0.275   \n",
       "Generosity                                                     0.138   \n",
       "Perceptions of corruption                                      0.277   \n",
       "Score in Dystopia                                             -0.000   \n",
       "\n",
       "                                   upperwhisker  lowerwhisker  \\\n",
       "Happiness scale                           0.999         0.999   \n",
       "Standard error of happiness scale        -0.439        -0.501   \n",
       "upperwhisker                              1.000         0.997   \n",
       "lowerwhisker                              0.997         1.000   \n",
       "Logged PBI per capita                     0.778         0.800   \n",
       "Social support                            0.749         0.763   \n",
       "Healthy life expectancy                   0.758         0.776   \n",
       "Freedom to make life choices              0.608         0.607   \n",
       "Generosity                               -0.013        -0.023   \n",
       "Perceptions of corruption                -0.418        -0.424   \n",
       "Score in Dystopia                        -0.000        -0.000   \n",
       "\n",
       "                                   Logged PBI per capita  Social support  \\\n",
       "Happiness scale                                    0.790           0.757   \n",
       "Standard error of happiness scale                 -0.646          -0.531   \n",
       "upperwhisker                                       0.778           0.749   \n",
       "lowerwhisker                                       0.800           0.763   \n",
       "Logged PBI per capita                              1.000           0.785   \n",
       "Social support                                     0.785           1.000   \n",
       "Healthy life expectancy                            0.859           0.723   \n",
       "Freedom to make life choices                       0.432           0.483   \n",
       "Generosity                                        -0.199          -0.115   \n",
       "Perceptions of corruption                         -0.342          -0.203   \n",
       "Score in Dystopia                                 -0.000          -0.000   \n",
       "\n",
       "                                   Healthy life expectancy  \\\n",
       "Happiness scale                                      0.768   \n",
       "Standard error of happiness scale                   -0.584   \n",
       "upperwhisker                                         0.758   \n",
       "lowerwhisker                                         0.776   \n",
       "Logged PBI per capita                                0.859   \n",
       "Social support                                       0.723   \n",
       "Healthy life expectancy                              1.000   \n",
       "Freedom to make life choices                         0.461   \n",
       "Generosity                                          -0.162   \n",
       "Perceptions of corruption                           -0.364   \n",
       "Score in Dystopia                                   -0.000   \n",
       "\n",
       "                                   Freedom to make life choices  Generosity  \\\n",
       "Happiness scale                                           0.608      -0.018   \n",
       "Standard error of happiness scale                        -0.275       0.138   \n",
       "upperwhisker                                              0.608      -0.013   \n",
       "lowerwhisker                                              0.607      -0.023   \n",
       "Logged PBI per capita                                     0.432      -0.199   \n",
       "Social support                                            0.483      -0.115   \n",
       "Healthy life expectancy                                   0.461      -0.162   \n",
       "Freedom to make life choices                              1.000       0.169   \n",
       "Generosity                                                0.169       1.000   \n",
       "Perceptions of corruption                                -0.401      -0.164   \n",
       "Score in Dystopia                                        -0.000      -0.000   \n",
       "\n",
       "                                   Perceptions of corruption  \\\n",
       "Happiness scale                                       -0.421   \n",
       "Standard error of happiness scale                      0.277   \n",
       "upperwhisker                                          -0.418   \n",
       "lowerwhisker                                          -0.424   \n",
       "Logged PBI per capita                                 -0.342   \n",
       "Social support                                        -0.203   \n",
       "Healthy life expectancy                               -0.364   \n",
       "Freedom to make life choices                          -0.401   \n",
       "Generosity                                            -0.164   \n",
       "Perceptions of corruption                              1.000   \n",
       "Score in Dystopia                                     -0.000   \n",
       "\n",
       "                                   Score in Dystopia  \n",
       "Happiness scale                               -0.000  \n",
       "Standard error of happiness scale             -0.000  \n",
       "upperwhisker                                  -0.000  \n",
       "lowerwhisker                                  -0.000  \n",
       "Logged PBI per capita                         -0.000  \n",
       "Social support                                -0.000  \n",
       "Healthy life expectancy                       -0.000  \n",
       "Freedom to make life choices                  -0.000  \n",
       "Generosity                                    -0.000  \n",
       "Perceptions of corruption                     -0.000  \n",
       "Score in Dystopia                              1.000  "
      ]
     },
     "execution_count": 20,
     "metadata": {},
     "output_type": "execute_result"
    }
   ],
   "source": [
    "data.corr()"
   ]
  },
  {
   "cell_type": "markdown",
   "metadata": {},
   "source": [
    "Aquí podemos ver la matriz de correlaciones, solo que aquí se usa la correlación de Pearson la cual se basa en buscar relaciones lineales."
   ]
  },
  {
   "cell_type": "code",
   "execution_count": 21,
   "metadata": {},
   "outputs": [
    {
     "data": {
      "text/plain": [
       "Happiness scale                      1.153\n",
       "Standard error of happiness scale    0.000\n",
       "upperwhisker                         1.112\n",
       "lowerwhisker                         1.199\n",
       "Logged PBI per capita                1.342\n",
       "Social support                       0.013\n",
       "Healthy life expectancy             45.725\n",
       "Freedom to make life choices         0.013\n",
       "Generosity                           0.023\n",
       "Perceptions of corruption            0.032\n",
       "Score in Dystopia                    0.000\n",
       "dtype: float64"
      ]
     },
     "execution_count": 21,
     "metadata": {},
     "output_type": "execute_result"
    }
   ],
   "source": [
    "data.var()"
   ]
  },
  {
   "cell_type": "markdown",
   "metadata": {},
   "source": [
    "Aquí podemos observar que la varianza de Score in Dystopia es nula o muy baja, es por esto que podemos tomar la decisión de retirar del dataset este atributo."
   ]
  },
  {
   "cell_type": "code",
   "execution_count": 22,
   "metadata": {},
   "outputs": [
    {
     "data": {
      "text/html": [
       "<div>\n",
       "<style scoped>\n",
       "    .dataframe tbody tr th:only-of-type {\n",
       "        vertical-align: middle;\n",
       "    }\n",
       "\n",
       "    .dataframe tbody tr th {\n",
       "        vertical-align: top;\n",
       "    }\n",
       "\n",
       "    .dataframe thead th {\n",
       "        text-align: right;\n",
       "    }\n",
       "</style>\n",
       "<table border=\"1\" class=\"dataframe\">\n",
       "  <thead>\n",
       "    <tr style=\"text-align: right;\">\n",
       "      <th></th>\n",
       "      <th>Country name</th>\n",
       "      <th>Happiness scale</th>\n",
       "      <th>Standard error of happiness scale</th>\n",
       "      <th>upperwhisker</th>\n",
       "      <th>lowerwhisker</th>\n",
       "      <th>Logged PBI per capita</th>\n",
       "      <th>Social support</th>\n",
       "      <th>Healthy life expectancy</th>\n",
       "      <th>Freedom to make life choices</th>\n",
       "      <th>Generosity</th>\n",
       "      <th>Perceptions of corruption</th>\n",
       "    </tr>\n",
       "    <tr>\n",
       "      <th>Regional indicator</th>\n",
       "      <th></th>\n",
       "      <th></th>\n",
       "      <th></th>\n",
       "      <th></th>\n",
       "      <th></th>\n",
       "      <th></th>\n",
       "      <th></th>\n",
       "      <th></th>\n",
       "      <th></th>\n",
       "      <th></th>\n",
       "      <th></th>\n",
       "    </tr>\n",
       "  </thead>\n",
       "  <tbody>\n",
       "    <tr>\n",
       "      <th>Western Europe</th>\n",
       "      <td>Finland</td>\n",
       "      <td>7.842</td>\n",
       "      <td>0.032</td>\n",
       "      <td>7.904</td>\n",
       "      <td>7.780</td>\n",
       "      <td>10.775</td>\n",
       "      <td>0.954</td>\n",
       "      <td>72.000</td>\n",
       "      <td>0.949</td>\n",
       "      <td>-0.098</td>\n",
       "      <td>0.186</td>\n",
       "    </tr>\n",
       "    <tr>\n",
       "      <th>Western Europe</th>\n",
       "      <td>Denmark</td>\n",
       "      <td>7.620</td>\n",
       "      <td>0.035</td>\n",
       "      <td>7.687</td>\n",
       "      <td>7.552</td>\n",
       "      <td>10.933</td>\n",
       "      <td>0.954</td>\n",
       "      <td>72.700</td>\n",
       "      <td>0.946</td>\n",
       "      <td>0.030</td>\n",
       "      <td>0.179</td>\n",
       "    </tr>\n",
       "    <tr>\n",
       "      <th>Western Europe</th>\n",
       "      <td>Switzerland</td>\n",
       "      <td>7.571</td>\n",
       "      <td>0.036</td>\n",
       "      <td>7.643</td>\n",
       "      <td>7.500</td>\n",
       "      <td>11.117</td>\n",
       "      <td>0.942</td>\n",
       "      <td>74.400</td>\n",
       "      <td>0.919</td>\n",
       "      <td>0.025</td>\n",
       "      <td>0.292</td>\n",
       "    </tr>\n",
       "    <tr>\n",
       "      <th>Western Europe</th>\n",
       "      <td>Iceland</td>\n",
       "      <td>7.554</td>\n",
       "      <td>0.059</td>\n",
       "      <td>7.670</td>\n",
       "      <td>7.438</td>\n",
       "      <td>10.878</td>\n",
       "      <td>0.983</td>\n",
       "      <td>73.000</td>\n",
       "      <td>0.955</td>\n",
       "      <td>0.160</td>\n",
       "      <td>0.673</td>\n",
       "    </tr>\n",
       "    <tr>\n",
       "      <th>Western Europe</th>\n",
       "      <td>Netherlands</td>\n",
       "      <td>7.464</td>\n",
       "      <td>0.027</td>\n",
       "      <td>7.518</td>\n",
       "      <td>7.410</td>\n",
       "      <td>10.932</td>\n",
       "      <td>0.942</td>\n",
       "      <td>72.400</td>\n",
       "      <td>0.913</td>\n",
       "      <td>0.175</td>\n",
       "      <td>0.338</td>\n",
       "    </tr>\n",
       "  </tbody>\n",
       "</table>\n",
       "</div>"
      ],
      "text/plain": [
       "                   Country name  Happiness scale  \\\n",
       "Regional indicator                                 \n",
       "Western Europe          Finland            7.842   \n",
       "Western Europe          Denmark            7.620   \n",
       "Western Europe      Switzerland            7.571   \n",
       "Western Europe          Iceland            7.554   \n",
       "Western Europe      Netherlands            7.464   \n",
       "\n",
       "                    Standard error of happiness scale  upperwhisker  \\\n",
       "Regional indicator                                                    \n",
       "Western Europe                                  0.032         7.904   \n",
       "Western Europe                                  0.035         7.687   \n",
       "Western Europe                                  0.036         7.643   \n",
       "Western Europe                                  0.059         7.670   \n",
       "Western Europe                                  0.027         7.518   \n",
       "\n",
       "                    lowerwhisker  Logged PBI per capita  Social support  \\\n",
       "Regional indicator                                                        \n",
       "Western Europe             7.780                 10.775           0.954   \n",
       "Western Europe             7.552                 10.933           0.954   \n",
       "Western Europe             7.500                 11.117           0.942   \n",
       "Western Europe             7.438                 10.878           0.983   \n",
       "Western Europe             7.410                 10.932           0.942   \n",
       "\n",
       "                    Healthy life expectancy  Freedom to make life choices  \\\n",
       "Regional indicator                                                          \n",
       "Western Europe                       72.000                         0.949   \n",
       "Western Europe                       72.700                         0.946   \n",
       "Western Europe                       74.400                         0.919   \n",
       "Western Europe                       73.000                         0.955   \n",
       "Western Europe                       72.400                         0.913   \n",
       "\n",
       "                    Generosity  Perceptions of corruption  \n",
       "Regional indicator                                         \n",
       "Western Europe          -0.098                      0.186  \n",
       "Western Europe           0.030                      0.179  \n",
       "Western Europe           0.025                      0.292  \n",
       "Western Europe           0.160                      0.673  \n",
       "Western Europe           0.175                      0.338  "
      ]
     },
     "execution_count": 22,
     "metadata": {},
     "output_type": "execute_result"
    }
   ],
   "source": [
    "del data[\"Score in Dystopia\"]\n",
    "data.head()"
   ]
  },
  {
   "cell_type": "markdown",
   "metadata": {},
   "source": [
    "Aquí podemos apreciar como efectivamente se retiró el atributo antes mencionado.\n",
    "Cabe destacar que los paises están ordenados de mayor a menor, por lo tanto el los paises que se ven en la parte superior son los más felices."
   ]
  },
  {
   "cell_type": "code",
   "execution_count": 25,
   "metadata": {},
   "outputs": [
    {
     "data": {
      "text/plain": [
       "<AxesSubplot:xlabel='Happiness scale', ylabel='Healthy life expectancy'>"
      ]
     },
     "execution_count": 25,
     "metadata": {},
     "output_type": "execute_result"
    },
    {
     "data": {
      "image/png": "[encoded data removed]",
      "text/plain": [
       "<Figure size 432x288 with 1 Axes>"
      ]
     },
     "metadata": {
      "needs_background": "light"
     },
     "output_type": "display_data"
    },
    {
     "data": {
      "image/png": "[encoded data removed]",
      "text/plain": [
       "<Figure size 432x288 with 1 Axes>"
      ]
     },
     "metadata": {
      "needs_background": "light"
     },
     "output_type": "display_data"
    },
    {
     "data": {
      "image/png": "[encoded data removed]",
      "text/plain": [
       "<Figure size 432x288 with 1 Axes>"
      ]
     },
     "metadata": {
      "needs_background": "light"
     },
     "output_type": "display_data"
    }
   ],
   "source": [
    "data.plot(x='Happiness scale', y='Logged PBI per capita', kind = 'scatter', color = 'black', alpha = 1)\n",
    "data.plot(x='Happiness scale', y='Social support', kind = 'scatter', color = 'black', alpha = 1)\n",
    "data.plot(x='Happiness scale', y='Healthy life expectancy', kind = 'scatter', color = 'black', alpha = 1)"
   ]
  },
  {
   "cell_type": "markdown",
   "metadata": {},
   "source": [
    "Finalmente, mediante estos scatter plot podemos afirmar una vez más que cuanto más PIB, mayor esperanza de vida y más ayuda social haya en los paises, más felices son estos. Esto se puede deducir de los resultados de las correlaciones y apoyarlo con lo visto en estos gráficos."
   ]
  }
 ],
 "metadata": {
  "kernelspec": {
   "display_name": "Python 3",
   "language": "python",
   "name": "python3"
  },
  "language_info": {
   "codemirror_mode": {
    "name": "ipython",
    "version": 3
   },
   "file_extension": ".py",
   "mimetype": "text/x-python",
   "name": "python",
   "nbconvert_exporter": "python",
   "pygments_lexer": "ipython3",
   "version": "3.8.5"
  }
 },
 "nbformat": 4,
 "nbformat_minor": 4
}
