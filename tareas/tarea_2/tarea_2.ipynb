{
 "cells": [
  {
   "cell_type": "markdown",
   "metadata": {},
   "source": [
    "### **Jorge Mario Trejos Barquero.**\n",
    "### **B77676.**\n",
    "\n",
    "Link del dataset: https://www.kaggle.com/residentmario/ramen-ratings\n",
    "\n",
    "#### Problema y enfoque de la solución\n",
    "En este dataset lo que tenemos son variables sobre diferentes restaurantes de ramen, algunas de estas características son: tipos de ramen, país, estilo, entre otros. El problema que se plantea es el de encontrar una forma de poder predecir que restaurantes de ramen van a ser mejores que otros dadas ciertas características (que sean iguales a las de los atributos del dataset), o sea que nuestro modelo va a ser de clasificación ya que cada nota que se le da a un ramen es de 0 a 5, si hacemos que cada una de estas notas sean números enteros podríamos verlo como que existen las clasificaciones 0, 1, 2, 3, 4 y 5, siendo 5 la mejor clasificación donde solo están los mejores ramen y 0 siendo la peor de todas donde solo están los peores ramen. Se podría ver esta clasificación como: muy malo (0), malo (1), un poco malo (2), un poco bueno (3), bueno (4) y muy bueno (5).\n",
    "Para realizar este trabajo se utilizarán arboles de decisión y random forest, ya que ambos nos sirven para clasificar y además se quiere ver que tan grande o pequeña es la mejora de usar un random forest en lugar de un árbol de decisión."
   ]
  },
  {
   "cell_type": "markdown",
   "metadata": {},
   "source": [
    "### **Iniciamos con el código** \n",
    "Incialmente se tendrá un apartado para poder incluir todas las librerías necesarias para poder llevar a cabo esta tarea."
   ]
  },
  {
   "cell_type": "code",
   "execution_count": 142,
   "metadata": {},
   "outputs": [],
   "source": [
    "import pandas as pd\n",
    "import numpy as np\n",
    "from sklearn.preprocessing import LabelEncoder\n",
    "from sklearn import tree\n",
    "from sklearn.model_selection import cross_val_score\n",
    "from sklearn.model_selection import RepeatedStratifiedKFold\n",
    "from sklearn.ensemble import RandomForestClassifier\n",
    "from matplotlib import pyplot"
   ]
  },
  {
   "cell_type": "markdown",
   "metadata": {},
   "source": [
    "#### **Análisis exploratorio**\n",
    "Ahora leemos el dataset y hacemos 2 técnicas de exploración de datos. \n",
    "La primera simplemente es imprimir el dataset como tal para ver que se haya guardado bien e ir viendo como son los datos a grandes rasgos. También podemos apreciar que hay 7 columnas de atributos y 2580 instancias o tuplas de datos.\n",
    "La segunda es muy parecida que es el head, pero en esta vemos solo las primeras 5 instancias con esto podemos ver de manera más especifica unas cuantas instancias de los datos.\n",
    "Se hicieron estos dos métodos ya que la mayoría de los métodos conocidos de graficación, correlación, entre otros métodos de análisis de datos, son con datos numéricos y en este caso lo único numérico es el numero de la review, el cual tampoco es que sea de importancia. Es por esta razón que se usaron estos dos métodos. De igual manera, con esto identificamos que tendremos que convertir estos datos de texto en números en un paso posterior."
   ]
  },
  {
   "cell_type": "code",
   "execution_count": 60,
   "metadata": {},
   "outputs": [
    {
     "name": "stdout",
     "output_type": "stream",
     "text": [
      "      Review #           Brand  \\\n",
      "0         2580       New Touch   \n",
      "1         2579        Just Way   \n",
      "2         2578          Nissin   \n",
      "3         2577         Wei Lih   \n",
      "4         2576  Ching's Secret   \n",
      "...        ...             ...   \n",
      "2575         5           Vifon   \n",
      "2576         4         Wai Wai   \n",
      "2577         3         Wai Wai   \n",
      "2578         2         Wai Wai   \n",
      "2579         1        Westbrae   \n",
      "\n",
      "                                                Variety Style   Country Stars  \\\n",
      "0                             T's Restaurant Tantanmen    Cup     Japan  3.75   \n",
      "1     Noodles Spicy Hot Sesame Spicy Hot Sesame Guan...  Pack    Taiwan     1   \n",
      "2                         Cup Noodles Chicken Vegetable   Cup       USA  2.25   \n",
      "3                         GGE Ramen Snack Tomato Flavor  Pack    Taiwan  2.75   \n",
      "4                                       Singapore Curry  Pack     India  3.75   \n",
      "...                                                 ...   ...       ...   ...   \n",
      "2575  Hu Tiu Nam Vang [\"Phnom Penh\" style] Asian Sty...  Bowl   Vietnam   3.5   \n",
      "2576                     Oriental Style Instant Noodles  Pack  Thailand     1   \n",
      "2577                                     Tom Yum Shrimp  Pack  Thailand     2   \n",
      "2578                               Tom Yum Chili Flavor  Pack  Thailand     2   \n",
      "2579                                         Miso Ramen  Pack       USA   0.5   \n",
      "\n",
      "     Top Ten  \n",
      "0        NaN  \n",
      "1        NaN  \n",
      "2        NaN  \n",
      "3        NaN  \n",
      "4        NaN  \n",
      "...      ...  \n",
      "2575     NaN  \n",
      "2576     NaN  \n",
      "2577     NaN  \n",
      "2578     NaN  \n",
      "2579     NaN  \n",
      "\n",
      "[2580 rows x 7 columns]\n"
     ]
    }
   ],
   "source": [
    "data = pd.read_csv('ramen-ratings.csv', index_col=False)\n",
    "\n",
    "print(data)"
   ]
  },
  {
   "cell_type": "code",
   "execution_count": 61,
   "metadata": {},
   "outputs": [
    {
     "data": {
      "text/html": [
       "<div>\n",
       "<style scoped>\n",
       "    .dataframe tbody tr th:only-of-type {\n",
       "        vertical-align: middle;\n",
       "    }\n",
       "\n",
       "    .dataframe tbody tr th {\n",
       "        vertical-align: top;\n",
       "    }\n",
       "\n",
       "    .dataframe thead th {\n",
       "        text-align: right;\n",
       "    }\n",
       "</style>\n",
       "<table border=\"1\" class=\"dataframe\">\n",
       "  <thead>\n",
       "    <tr style=\"text-align: right;\">\n",
       "      <th></th>\n",
       "      <th>Review #</th>\n",
       "      <th>Brand</th>\n",
       "      <th>Variety</th>\n",
       "      <th>Style</th>\n",
       "      <th>Country</th>\n",
       "      <th>Stars</th>\n",
       "      <th>Top Ten</th>\n",
       "    </tr>\n",
       "  </thead>\n",
       "  <tbody>\n",
       "    <tr>\n",
       "      <th>0</th>\n",
       "      <td>2580</td>\n",
       "      <td>New Touch</td>\n",
       "      <td>T's Restaurant Tantanmen</td>\n",
       "      <td>Cup</td>\n",
       "      <td>Japan</td>\n",
       "      <td>3.75</td>\n",
       "      <td>NaN</td>\n",
       "    </tr>\n",
       "    <tr>\n",
       "      <th>1</th>\n",
       "      <td>2579</td>\n",
       "      <td>Just Way</td>\n",
       "      <td>Noodles Spicy Hot Sesame Spicy Hot Sesame Guan...</td>\n",
       "      <td>Pack</td>\n",
       "      <td>Taiwan</td>\n",
       "      <td>1</td>\n",
       "      <td>NaN</td>\n",
       "    </tr>\n",
       "    <tr>\n",
       "      <th>2</th>\n",
       "      <td>2578</td>\n",
       "      <td>Nissin</td>\n",
       "      <td>Cup Noodles Chicken Vegetable</td>\n",
       "      <td>Cup</td>\n",
       "      <td>USA</td>\n",
       "      <td>2.25</td>\n",
       "      <td>NaN</td>\n",
       "    </tr>\n",
       "    <tr>\n",
       "      <th>3</th>\n",
       "      <td>2577</td>\n",
       "      <td>Wei Lih</td>\n",
       "      <td>GGE Ramen Snack Tomato Flavor</td>\n",
       "      <td>Pack</td>\n",
       "      <td>Taiwan</td>\n",
       "      <td>2.75</td>\n",
       "      <td>NaN</td>\n",
       "    </tr>\n",
       "    <tr>\n",
       "      <th>4</th>\n",
       "      <td>2576</td>\n",
       "      <td>Ching's Secret</td>\n",
       "      <td>Singapore Curry</td>\n",
       "      <td>Pack</td>\n",
       "      <td>India</td>\n",
       "      <td>3.75</td>\n",
       "      <td>NaN</td>\n",
       "    </tr>\n",
       "  </tbody>\n",
       "</table>\n",
       "</div>"
      ],
      "text/plain": [
       "   Review #           Brand  \\\n",
       "0      2580       New Touch   \n",
       "1      2579        Just Way   \n",
       "2      2578          Nissin   \n",
       "3      2577         Wei Lih   \n",
       "4      2576  Ching's Secret   \n",
       "\n",
       "                                             Variety Style Country Stars  \\\n",
       "0                          T's Restaurant Tantanmen    Cup   Japan  3.75   \n",
       "1  Noodles Spicy Hot Sesame Spicy Hot Sesame Guan...  Pack  Taiwan     1   \n",
       "2                      Cup Noodles Chicken Vegetable   Cup     USA  2.25   \n",
       "3                      GGE Ramen Snack Tomato Flavor  Pack  Taiwan  2.75   \n",
       "4                                    Singapore Curry  Pack   India  3.75   \n",
       "\n",
       "  Top Ten  \n",
       "0     NaN  \n",
       "1     NaN  \n",
       "2     NaN  \n",
       "3     NaN  \n",
       "4     NaN  "
      ]
     },
     "execution_count": 61,
     "metadata": {},
     "output_type": "execute_result"
    }
   ],
   "source": [
    "data.head()"
   ]
  },
  {
   "cell_type": "markdown",
   "metadata": {},
   "source": [
    "### **Dos técnicas de preprocesamiento y limpieza de datos y su interpretación**\n",
    "Para estas dos técnicas lo que haremos es:\n",
    "1. Primero rellenar los NaN (not a number) que tiene la columna \"Top Ten\" esto ya que para algún análisis de datos, tener un NaN en lugar de un valor puede ser complicado de tratar. Ya que los números del top van de 1 al 10 se eligió el numero 0 como el numero por defecto para todos aquellos ramen que no estén incluidos en este top.\n",
    "2. Convertir las variables de tipo string a int, esto para poder usarlas en algún algoritmo posteriormente. Esta conversión es basada en los diferentes tipos de valores que puede haber en una columna. Por ejemplo, si en una columna como la de \"Style\" solo existen tipos \"cup\" y \"pack\" entonces podemos ligar \"cup\" al numero \"1\" y pack al numero \"2\". \n",
    "\n",
    "Primero vamos a rellenar los NaN:"
   ]
  },
  {
   "cell_type": "code",
   "execution_count": 62,
   "metadata": {},
   "outputs": [
    {
     "name": "stdout",
     "output_type": "stream",
     "text": [
      "0\n",
      "2014 #5\n",
      "2012 #7\n",
      "2012 #6\n",
      "2016 #5\n",
      "2013 #4\n",
      "2012 #2\n",
      "2013 #2\n",
      "2016 #1\n",
      "2016 #9\n",
      "2012 #4\n",
      "2015 #8\n",
      "2013 #9\n",
      "2013 #10\n",
      "2015 #1\n",
      "2014 #10\n",
      "2014 #9\n",
      "2012 #1\n",
      "2012 #3\n",
      "2016 #8\n",
      "2014 #8\n",
      "2012 #9\n",
      "2014 #1\n",
      "2013 #1\n",
      "2015 #10\n",
      "2014 #6\n",
      "2014 #7\n",
      "2013 #3\n",
      "2015 #4\n",
      "2014 #4\n",
      "2015 #7\n",
      "2015 #6\n",
      "2016 #10\n",
      "2012 #10\n",
      "2013 #6\n",
      "2012 #5\n",
      "2016 #7\n",
      "2015 #9\n"
     ]
    }
   ],
   "source": [
    "# Convertimos los nan en 0\n",
    "data['Top Ten'] = data['Top Ten'].fillna(0)\n",
    "\n",
    "# Tambien se sabe que hay un \\n entonces lo quitamos\n",
    "data['Top Ten'] = data['Top Ten'].replace(\"\\n\", 0)\n",
    "\n",
    "# Guardamos la columna top ten para ver el resultado\n",
    "columna = data['Top Ten'].tolist()\n",
    "\n",
    "# Imprimimos los diferentes valores que hayan en la columna\n",
    "list_set = set(columna)\n",
    "unique_list = (list(list_set))\n",
    "\n",
    "for x in unique_list:\n",
    "    print (x)"
   ]
  },
  {
   "cell_type": "markdown",
   "metadata": {},
   "source": [
    "Ahora vamos a convertir a numero los distintos string que hayan en las columnas de: Brand, Variety, Style y Country."
   ]
  },
  {
   "cell_type": "code",
   "execution_count": 64,
   "metadata": {},
   "outputs": [
    {
     "name": "stdout",
     "output_type": "stream",
     "text": [
      "Bowl\n",
      "Can\n",
      "Box\n",
      "Bar\n",
      "Cup\n",
      "Unknown\n",
      "Pack\n",
      "Tray\n"
     ]
    }
   ],
   "source": [
    "# Primero tenemos que cambiar los NaN que hayan en las columnas, esto lo sabemos usando el siguiente\n",
    "# código para todas la columnas y nos damos cuenta que style tiene un NaN que debe ser reemplazado\n",
    "columna = data['Style'].tolist()\n",
    "\n",
    "# Imprimimos los diferentes valores que hayan en la columna\n",
    "list_set = set(columna)\n",
    "unique_list = (list(list_set))\n",
    "\n",
    "for x in unique_list:\n",
    "    print (x)\n",
    "\n",
    "data['Style'] = data['Style'].fillna(\"Unknown\")"
   ]
  },
  {
   "cell_type": "code",
   "execution_count": 66,
   "metadata": {},
   "outputs": [
    {
     "data": {
      "text/html": [
       "<div>\n",
       "<style scoped>\n",
       "    .dataframe tbody tr th:only-of-type {\n",
       "        vertical-align: middle;\n",
       "    }\n",
       "\n",
       "    .dataframe tbody tr th {\n",
       "        vertical-align: top;\n",
       "    }\n",
       "\n",
       "    .dataframe thead th {\n",
       "        text-align: right;\n",
       "    }\n",
       "</style>\n",
       "<table border=\"1\" class=\"dataframe\">\n",
       "  <thead>\n",
       "    <tr style=\"text-align: right;\">\n",
       "      <th></th>\n",
       "      <th>Review #</th>\n",
       "      <th>Brand</th>\n",
       "      <th>Variety</th>\n",
       "      <th>Style</th>\n",
       "      <th>Country</th>\n",
       "      <th>Stars</th>\n",
       "      <th>Top Ten</th>\n",
       "      <th>Brand_n</th>\n",
       "      <th>Variety_n</th>\n",
       "      <th>Style_n</th>\n",
       "      <th>Country_n</th>\n",
       "    </tr>\n",
       "  </thead>\n",
       "  <tbody>\n",
       "    <tr>\n",
       "      <th>0</th>\n",
       "      <td>2580</td>\n",
       "      <td>New Touch</td>\n",
       "      <td>T's Restaurant Tantanmen</td>\n",
       "      <td>Cup</td>\n",
       "      <td>Japan</td>\n",
       "      <td>3.75</td>\n",
       "      <td>0</td>\n",
       "      <td>190</td>\n",
       "      <td>2189</td>\n",
       "      <td>4</td>\n",
       "      <td>18</td>\n",
       "    </tr>\n",
       "    <tr>\n",
       "      <th>1</th>\n",
       "      <td>2579</td>\n",
       "      <td>Just Way</td>\n",
       "      <td>Noodles Spicy Hot Sesame Spicy Hot Sesame Guan...</td>\n",
       "      <td>Pack</td>\n",
       "      <td>Taiwan</td>\n",
       "      <td>1</td>\n",
       "      <td>0</td>\n",
       "      <td>119</td>\n",
       "      <td>1443</td>\n",
       "      <td>5</td>\n",
       "      <td>32</td>\n",
       "    </tr>\n",
       "    <tr>\n",
       "      <th>2</th>\n",
       "      <td>2578</td>\n",
       "      <td>Nissin</td>\n",
       "      <td>Cup Noodles Chicken Vegetable</td>\n",
       "      <td>Cup</td>\n",
       "      <td>USA</td>\n",
       "      <td>2.25</td>\n",
       "      <td>0</td>\n",
       "      <td>192</td>\n",
       "      <td>454</td>\n",
       "      <td>4</td>\n",
       "      <td>35</td>\n",
       "    </tr>\n",
       "    <tr>\n",
       "      <th>3</th>\n",
       "      <td>2577</td>\n",
       "      <td>Wei Lih</td>\n",
       "      <td>GGE Ramen Snack Tomato Flavor</td>\n",
       "      <td>Pack</td>\n",
       "      <td>Taiwan</td>\n",
       "      <td>2.75</td>\n",
       "      <td>0</td>\n",
       "      <td>336</td>\n",
       "      <td>709</td>\n",
       "      <td>5</td>\n",
       "      <td>32</td>\n",
       "    </tr>\n",
       "    <tr>\n",
       "      <th>4</th>\n",
       "      <td>2576</td>\n",
       "      <td>Ching's Secret</td>\n",
       "      <td>Singapore Curry</td>\n",
       "      <td>Pack</td>\n",
       "      <td>India</td>\n",
       "      <td>3.75</td>\n",
       "      <td>0</td>\n",
       "      <td>38</td>\n",
       "      <td>1954</td>\n",
       "      <td>5</td>\n",
       "      <td>16</td>\n",
       "    </tr>\n",
       "  </tbody>\n",
       "</table>\n",
       "</div>"
      ],
      "text/plain": [
       "   Review #           Brand  \\\n",
       "0      2580       New Touch   \n",
       "1      2579        Just Way   \n",
       "2      2578          Nissin   \n",
       "3      2577         Wei Lih   \n",
       "4      2576  Ching's Secret   \n",
       "\n",
       "                                             Variety Style Country Stars  \\\n",
       "0                          T's Restaurant Tantanmen    Cup   Japan  3.75   \n",
       "1  Noodles Spicy Hot Sesame Spicy Hot Sesame Guan...  Pack  Taiwan     1   \n",
       "2                      Cup Noodles Chicken Vegetable   Cup     USA  2.25   \n",
       "3                      GGE Ramen Snack Tomato Flavor  Pack  Taiwan  2.75   \n",
       "4                                    Singapore Curry  Pack   India  3.75   \n",
       "\n",
       "  Top Ten  Brand_n  Variety_n  Style_n  Country_n  \n",
       "0       0      190       2189        4         18  \n",
       "1       0      119       1443        5         32  \n",
       "2       0      192        454        4         35  \n",
       "3       0      336        709        5         32  \n",
       "4       0       38       1954        5         16  "
      ]
     },
     "execution_count": 66,
     "metadata": {},
     "output_type": "execute_result"
    }
   ],
   "source": [
    "# Ahora procedemos a codificar los valores\n",
    "# Primero creamos los enconder\n",
    "le_brand = LabelEncoder()\n",
    "le_variety = LabelEncoder()\n",
    "le_style = LabelEncoder()\n",
    "le_country = LabelEncoder()\n",
    "\n",
    "# Ahora creamos las columnas ya codificadas de cada valor\n",
    "data['Brand_n'] = le_brand.fit_transform(data['Brand'])\n",
    "data['Variety_n'] = le_brand.fit_transform(data['Variety'])\n",
    "data['Style_n'] = le_brand.fit_transform(data['Style'])\n",
    "data['Country_n'] = le_brand.fit_transform(data['Country'])\n",
    "\n",
    "data.head()"
   ]
  },
  {
   "cell_type": "code",
   "execution_count": 67,
   "metadata": {},
   "outputs": [
    {
     "data": {
      "text/html": [
       "<div>\n",
       "<style scoped>\n",
       "    .dataframe tbody tr th:only-of-type {\n",
       "        vertical-align: middle;\n",
       "    }\n",
       "\n",
       "    .dataframe tbody tr th {\n",
       "        vertical-align: top;\n",
       "    }\n",
       "\n",
       "    .dataframe thead th {\n",
       "        text-align: right;\n",
       "    }\n",
       "</style>\n",
       "<table border=\"1\" class=\"dataframe\">\n",
       "  <thead>\n",
       "    <tr style=\"text-align: right;\">\n",
       "      <th></th>\n",
       "      <th>Brand</th>\n",
       "      <th>Variety</th>\n",
       "      <th>Style</th>\n",
       "      <th>Country</th>\n",
       "      <th>Brand_n</th>\n",
       "      <th>Variety_n</th>\n",
       "      <th>Style_n</th>\n",
       "      <th>Country_n</th>\n",
       "    </tr>\n",
       "  </thead>\n",
       "  <tbody>\n",
       "    <tr>\n",
       "      <th>0</th>\n",
       "      <td>New Touch</td>\n",
       "      <td>T's Restaurant Tantanmen</td>\n",
       "      <td>Cup</td>\n",
       "      <td>Japan</td>\n",
       "      <td>190</td>\n",
       "      <td>2189</td>\n",
       "      <td>4</td>\n",
       "      <td>18</td>\n",
       "    </tr>\n",
       "    <tr>\n",
       "      <th>1</th>\n",
       "      <td>Just Way</td>\n",
       "      <td>Noodles Spicy Hot Sesame Spicy Hot Sesame Guan...</td>\n",
       "      <td>Pack</td>\n",
       "      <td>Taiwan</td>\n",
       "      <td>119</td>\n",
       "      <td>1443</td>\n",
       "      <td>5</td>\n",
       "      <td>32</td>\n",
       "    </tr>\n",
       "    <tr>\n",
       "      <th>2</th>\n",
       "      <td>Nissin</td>\n",
       "      <td>Cup Noodles Chicken Vegetable</td>\n",
       "      <td>Cup</td>\n",
       "      <td>USA</td>\n",
       "      <td>192</td>\n",
       "      <td>454</td>\n",
       "      <td>4</td>\n",
       "      <td>35</td>\n",
       "    </tr>\n",
       "    <tr>\n",
       "      <th>3</th>\n",
       "      <td>Wei Lih</td>\n",
       "      <td>GGE Ramen Snack Tomato Flavor</td>\n",
       "      <td>Pack</td>\n",
       "      <td>Taiwan</td>\n",
       "      <td>336</td>\n",
       "      <td>709</td>\n",
       "      <td>5</td>\n",
       "      <td>32</td>\n",
       "    </tr>\n",
       "    <tr>\n",
       "      <th>4</th>\n",
       "      <td>Ching's Secret</td>\n",
       "      <td>Singapore Curry</td>\n",
       "      <td>Pack</td>\n",
       "      <td>India</td>\n",
       "      <td>38</td>\n",
       "      <td>1954</td>\n",
       "      <td>5</td>\n",
       "      <td>16</td>\n",
       "    </tr>\n",
       "  </tbody>\n",
       "</table>\n",
       "</div>"
      ],
      "text/plain": [
       "            Brand                                            Variety Style  \\\n",
       "0       New Touch                          T's Restaurant Tantanmen    Cup   \n",
       "1        Just Way  Noodles Spicy Hot Sesame Spicy Hot Sesame Guan...  Pack   \n",
       "2          Nissin                      Cup Noodles Chicken Vegetable   Cup   \n",
       "3         Wei Lih                      GGE Ramen Snack Tomato Flavor  Pack   \n",
       "4  Ching's Secret                                    Singapore Curry  Pack   \n",
       "\n",
       "  Country  Brand_n  Variety_n  Style_n  Country_n  \n",
       "0   Japan      190       2189        4         18  \n",
       "1  Taiwan      119       1443        5         32  \n",
       "2     USA      192        454        4         35  \n",
       "3  Taiwan      336        709        5         32  \n",
       "4   India       38       1954        5         16  "
      ]
     },
     "execution_count": 67,
     "metadata": {},
     "output_type": "execute_result"
    }
   ],
   "source": [
    "# Para tener almacenada la codificación en alguna variable y poder consultarla luego hacemos lo siguiente\n",
    "codificacion = data.drop(['Review #', 'Top Ten', 'Stars'], axis = 1)\n",
    "codificacion.head()"
   ]
  },
  {
   "cell_type": "code",
   "execution_count": 68,
   "metadata": {},
   "outputs": [
    {
     "data": {
      "text/html": [
       "<div>\n",
       "<style scoped>\n",
       "    .dataframe tbody tr th:only-of-type {\n",
       "        vertical-align: middle;\n",
       "    }\n",
       "\n",
       "    .dataframe tbody tr th {\n",
       "        vertical-align: top;\n",
       "    }\n",
       "\n",
       "    .dataframe thead th {\n",
       "        text-align: right;\n",
       "    }\n",
       "</style>\n",
       "<table border=\"1\" class=\"dataframe\">\n",
       "  <thead>\n",
       "    <tr style=\"text-align: right;\">\n",
       "      <th></th>\n",
       "      <th>Review #</th>\n",
       "      <th>Stars</th>\n",
       "      <th>Top Ten</th>\n",
       "      <th>Brand_n</th>\n",
       "      <th>Variety_n</th>\n",
       "      <th>Style_n</th>\n",
       "      <th>Country_n</th>\n",
       "    </tr>\n",
       "  </thead>\n",
       "  <tbody>\n",
       "    <tr>\n",
       "      <th>0</th>\n",
       "      <td>2580</td>\n",
       "      <td>3.75</td>\n",
       "      <td>0</td>\n",
       "      <td>190</td>\n",
       "      <td>2189</td>\n",
       "      <td>4</td>\n",
       "      <td>18</td>\n",
       "    </tr>\n",
       "    <tr>\n",
       "      <th>1</th>\n",
       "      <td>2579</td>\n",
       "      <td>1</td>\n",
       "      <td>0</td>\n",
       "      <td>119</td>\n",
       "      <td>1443</td>\n",
       "      <td>5</td>\n",
       "      <td>32</td>\n",
       "    </tr>\n",
       "    <tr>\n",
       "      <th>2</th>\n",
       "      <td>2578</td>\n",
       "      <td>2.25</td>\n",
       "      <td>0</td>\n",
       "      <td>192</td>\n",
       "      <td>454</td>\n",
       "      <td>4</td>\n",
       "      <td>35</td>\n",
       "    </tr>\n",
       "    <tr>\n",
       "      <th>3</th>\n",
       "      <td>2577</td>\n",
       "      <td>2.75</td>\n",
       "      <td>0</td>\n",
       "      <td>336</td>\n",
       "      <td>709</td>\n",
       "      <td>5</td>\n",
       "      <td>32</td>\n",
       "    </tr>\n",
       "    <tr>\n",
       "      <th>4</th>\n",
       "      <td>2576</td>\n",
       "      <td>3.75</td>\n",
       "      <td>0</td>\n",
       "      <td>38</td>\n",
       "      <td>1954</td>\n",
       "      <td>5</td>\n",
       "      <td>16</td>\n",
       "    </tr>\n",
       "  </tbody>\n",
       "</table>\n",
       "</div>"
      ],
      "text/plain": [
       "   Review # Stars Top Ten  Brand_n  Variety_n  Style_n  Country_n\n",
       "0      2580  3.75       0      190       2189        4         18\n",
       "1      2579     1       0      119       1443        5         32\n",
       "2      2578  2.25       0      192        454        4         35\n",
       "3      2577  2.75       0      336        709        5         32\n",
       "4      2576  3.75       0       38       1954        5         16"
      ]
     },
     "execution_count": 68,
     "metadata": {},
     "output_type": "execute_result"
    }
   ],
   "source": [
    "# Ahora para tener el dataset listo y limpio lo que hacemos es quitar las columnas que tienen strings\n",
    "data = data.drop(['Brand', 'Variety', 'Style', 'Country'], axis = 1)\n",
    "data.head()"
   ]
  },
  {
   "cell_type": "markdown",
   "metadata": {},
   "source": [
    "### **Dos técnicas de transformación de datos, selección y extracción de atributos**\n",
    "Para esta parte ya se hacen cambios pensando en como se va a utilizar un algoritmo especifico para estudiar el dataset, como lo que se le va a aplicar a este dataset es un árbol de decisión y un random forest necesitamos que los datos sean numéricos, es por Para estas dos técnicas se hará:\n",
    "1. Extracción de la columna \"Top Ten\" y \"Review #\" ya que estas columnas para el análisis propuesto no aportan nada que tenga importancia.\n",
    "2. Convertir la columna \"Stars\" (nuestra \"y\" o variable de respuesta) en valores enteros, esto para que, a como se habló al inicio, se pueda tomar la cantidad de estrellas como las clasificaciones a las cuales queremos asignar cada uno de los ramen.\n",
    "\n",
    "Empezamos con la extracción de las columnas:"
   ]
  },
  {
   "cell_type": "code",
   "execution_count": 69,
   "metadata": {},
   "outputs": [
    {
     "data": {
      "text/html": [
       "<div>\n",
       "<style scoped>\n",
       "    .dataframe tbody tr th:only-of-type {\n",
       "        vertical-align: middle;\n",
       "    }\n",
       "\n",
       "    .dataframe tbody tr th {\n",
       "        vertical-align: top;\n",
       "    }\n",
       "\n",
       "    .dataframe thead th {\n",
       "        text-align: right;\n",
       "    }\n",
       "</style>\n",
       "<table border=\"1\" class=\"dataframe\">\n",
       "  <thead>\n",
       "    <tr style=\"text-align: right;\">\n",
       "      <th></th>\n",
       "      <th>Stars</th>\n",
       "      <th>Brand_n</th>\n",
       "      <th>Variety_n</th>\n",
       "      <th>Style_n</th>\n",
       "      <th>Country_n</th>\n",
       "    </tr>\n",
       "  </thead>\n",
       "  <tbody>\n",
       "    <tr>\n",
       "      <th>0</th>\n",
       "      <td>3.75</td>\n",
       "      <td>190</td>\n",
       "      <td>2189</td>\n",
       "      <td>4</td>\n",
       "      <td>18</td>\n",
       "    </tr>\n",
       "    <tr>\n",
       "      <th>1</th>\n",
       "      <td>1</td>\n",
       "      <td>119</td>\n",
       "      <td>1443</td>\n",
       "      <td>5</td>\n",
       "      <td>32</td>\n",
       "    </tr>\n",
       "    <tr>\n",
       "      <th>2</th>\n",
       "      <td>2.25</td>\n",
       "      <td>192</td>\n",
       "      <td>454</td>\n",
       "      <td>4</td>\n",
       "      <td>35</td>\n",
       "    </tr>\n",
       "    <tr>\n",
       "      <th>3</th>\n",
       "      <td>2.75</td>\n",
       "      <td>336</td>\n",
       "      <td>709</td>\n",
       "      <td>5</td>\n",
       "      <td>32</td>\n",
       "    </tr>\n",
       "    <tr>\n",
       "      <th>4</th>\n",
       "      <td>3.75</td>\n",
       "      <td>38</td>\n",
       "      <td>1954</td>\n",
       "      <td>5</td>\n",
       "      <td>16</td>\n",
       "    </tr>\n",
       "  </tbody>\n",
       "</table>\n",
       "</div>"
      ],
      "text/plain": [
       "  Stars  Brand_n  Variety_n  Style_n  Country_n\n",
       "0  3.75      190       2189        4         18\n",
       "1     1      119       1443        5         32\n",
       "2  2.25      192        454        4         35\n",
       "3  2.75      336        709        5         32\n",
       "4  3.75       38       1954        5         16"
      ]
     },
     "execution_count": 69,
     "metadata": {},
     "output_type": "execute_result"
    }
   ],
   "source": [
    "data = data.drop(['Review #', 'Top Ten'], axis = 1)\n",
    "data.head()"
   ]
  },
  {
   "cell_type": "markdown",
   "metadata": {},
   "source": [
    "Ahora convertimos \"Stars\" en enteros para poder tomarlos como clasificaciones. "
   ]
  },
  {
   "cell_type": "code",
   "execution_count": 70,
   "metadata": {},
   "outputs": [
    {
     "name": "stdout",
     "output_type": "stream",
     "text": [
      "3.0\n",
      "2.85\n",
      "4.75\n",
      "2.25\n",
      "4.3\n",
      "3.3\n",
      "4.50\n",
      "3.2\n",
      "4.0\n",
      "2.9\n",
      "1.5\n",
      "3.8\n",
      "3.65\n",
      "0.75\n",
      "0.25\n",
      "4.00\n",
      "4.25\n",
      "1.8\n",
      "4\n",
      "1.25\n",
      "0.1\n",
      "5\n",
      "3.125\n",
      "2.3\n",
      "1\n",
      "2.5\n",
      "3.5\n",
      "3.4\n",
      "2.1\n",
      "5.0\n",
      "3.25\n",
      "3.50\n",
      "3.6\n",
      "Unrated\n",
      "0.5\n",
      "1.1\n",
      "3.1\n",
      "1.75\n",
      "2.75\n",
      "4.5\n",
      "3.75\n",
      "3\n",
      "3.00\n",
      "2.125\n",
      "2\n",
      "2.8\n",
      "0\n",
      "3.7\n",
      "5.00\n",
      "0.9\n",
      "4.125\n"
     ]
    }
   ],
   "source": [
    "# Primero verificamos los distintos valores de la columna Stars\n",
    "columna = data['Stars'].tolist()\n",
    "\n",
    "# Imprimimos los diferentes valores que hayan en la columna\n",
    "list_set = set(columna)\n",
    "unique_list = (list(list_set))\n",
    "\n",
    "for x in unique_list:\n",
    "    print (x)"
   ]
  },
  {
   "cell_type": "code",
   "execution_count": 72,
   "metadata": {},
   "outputs": [
    {
     "name": "stdout",
     "output_type": "stream",
     "text": [
      "3.0\n",
      "2.85\n",
      "4.75\n",
      "2.25\n",
      "4.3\n",
      "3.3\n",
      "4.50\n",
      "3.2\n",
      "4.0\n",
      "2.9\n",
      "1.5\n",
      "3.8\n",
      "3.65\n",
      "0.75\n",
      "0.25\n",
      "4.00\n",
      "4.25\n",
      "1.8\n",
      "4\n",
      "1.25\n",
      "0.1\n",
      "5\n",
      "3.125\n",
      "2.3\n",
      "1\n",
      "2.5\n",
      "3.5\n",
      "3.4\n",
      "2.1\n",
      "5.0\n",
      "3.25\n",
      "3.50\n",
      "3.6\n",
      "0.5\n",
      "1.1\n",
      "3.1\n",
      "1.75\n",
      "2.75\n",
      "4.5\n",
      "3.75\n",
      "3\n",
      "3.00\n",
      "2.125\n",
      "2\n",
      "2.8\n",
      "0\n",
      "3.7\n",
      "5.00\n",
      "0.9\n",
      "4.125\n"
     ]
    }
   ],
   "source": [
    "# Como hay ramen que son \"Unrated\" los vamos a quitar\n",
    "indexNames = data[ data['Stars'] == 'Unrated' ].index\n",
    "data.drop(indexNames , inplace=True)\n",
    "\n",
    "columna = data['Stars'].tolist()\n",
    "\n",
    "# Imprimimos los diferentes valores que hayan en la columna\n",
    "list_set = set(columna)\n",
    "unique_list = (list(list_set))\n",
    "\n",
    "for x in unique_list:\n",
    "    print (x)"
   ]
  },
  {
   "cell_type": "code",
   "execution_count": 74,
   "metadata": {},
   "outputs": [
    {
     "data": {
      "text/plain": [
       "Stars        object\n",
       "Brand_n       int64\n",
       "Variety_n     int64\n",
       "Style_n       int64\n",
       "Country_n     int64\n",
       "dtype: object"
      ]
     },
     "metadata": {},
     "output_type": "display_data"
    }
   ],
   "source": [
    "# Ahora vemos que tipos son las columnas para poder dejarlas todas como enteros\n",
    "display(data.dtypes)"
   ]
  },
  {
   "cell_type": "code",
   "execution_count": 78,
   "metadata": {},
   "outputs": [
    {
     "data": {
      "text/plain": [
       "Stars        float64\n",
       "Brand_n        int64\n",
       "Variety_n      int64\n",
       "Style_n        int64\n",
       "Country_n      int64\n",
       "dtype: object"
      ]
     },
     "metadata": {},
     "output_type": "display_data"
    }
   ],
   "source": [
    "# Convertimos Stars a numero\n",
    "data['Stars'] = pd.to_numeric(data['Stars'])\n",
    "display(data.dtypes)"
   ]
  },
  {
   "cell_type": "code",
   "execution_count": 80,
   "metadata": {},
   "outputs": [
    {
     "data": {
      "text/plain": [
       "Stars        int64\n",
       "Brand_n      int64\n",
       "Variety_n    int64\n",
       "Style_n      int64\n",
       "Country_n    int64\n",
       "dtype: object"
      ]
     },
     "metadata": {},
     "output_type": "display_data"
    },
    {
     "data": {
      "text/html": [
       "<div>\n",
       "<style scoped>\n",
       "    .dataframe tbody tr th:only-of-type {\n",
       "        vertical-align: middle;\n",
       "    }\n",
       "\n",
       "    .dataframe tbody tr th {\n",
       "        vertical-align: top;\n",
       "    }\n",
       "\n",
       "    .dataframe thead th {\n",
       "        text-align: right;\n",
       "    }\n",
       "</style>\n",
       "<table border=\"1\" class=\"dataframe\">\n",
       "  <thead>\n",
       "    <tr style=\"text-align: right;\">\n",
       "      <th></th>\n",
       "      <th>Stars</th>\n",
       "      <th>Brand_n</th>\n",
       "      <th>Variety_n</th>\n",
       "      <th>Style_n</th>\n",
       "      <th>Country_n</th>\n",
       "    </tr>\n",
       "  </thead>\n",
       "  <tbody>\n",
       "    <tr>\n",
       "      <th>0</th>\n",
       "      <td>3</td>\n",
       "      <td>190</td>\n",
       "      <td>2189</td>\n",
       "      <td>4</td>\n",
       "      <td>18</td>\n",
       "    </tr>\n",
       "    <tr>\n",
       "      <th>1</th>\n",
       "      <td>1</td>\n",
       "      <td>119</td>\n",
       "      <td>1443</td>\n",
       "      <td>5</td>\n",
       "      <td>32</td>\n",
       "    </tr>\n",
       "    <tr>\n",
       "      <th>2</th>\n",
       "      <td>2</td>\n",
       "      <td>192</td>\n",
       "      <td>454</td>\n",
       "      <td>4</td>\n",
       "      <td>35</td>\n",
       "    </tr>\n",
       "    <tr>\n",
       "      <th>3</th>\n",
       "      <td>2</td>\n",
       "      <td>336</td>\n",
       "      <td>709</td>\n",
       "      <td>5</td>\n",
       "      <td>32</td>\n",
       "    </tr>\n",
       "    <tr>\n",
       "      <th>4</th>\n",
       "      <td>3</td>\n",
       "      <td>38</td>\n",
       "      <td>1954</td>\n",
       "      <td>5</td>\n",
       "      <td>16</td>\n",
       "    </tr>\n",
       "  </tbody>\n",
       "</table>\n",
       "</div>"
      ],
      "text/plain": [
       "   Stars  Brand_n  Variety_n  Style_n  Country_n\n",
       "0      3      190       2189        4         18\n",
       "1      1      119       1443        5         32\n",
       "2      2      192        454        4         35\n",
       "3      2      336        709        5         32\n",
       "4      3       38       1954        5         16"
      ]
     },
     "execution_count": 80,
     "metadata": {},
     "output_type": "execute_result"
    }
   ],
   "source": [
    "# Convertimos Stars a int64\n",
    "data['Stars'] = data['Stars'].astype(int)\n",
    "display(data.dtypes)\n",
    "data.head()"
   ]
  },
  {
   "cell_type": "markdown",
   "metadata": {},
   "source": [
    "### **Algoritmos y evaluación del modelo** \n",
    "#### **Arboles de decisión**"
   ]
  },
  {
   "cell_type": "code",
   "execution_count": 154,
   "metadata": {},
   "outputs": [
    {
     "name": "stdout",
     "output_type": "stream",
     "text": [
      "Accuracy: 0.393 (0.024)\n"
     ]
    }
   ],
   "source": [
    "inputs = data.drop(['Stars'], axis=1)\n",
    "outputs = data.drop(['Brand_n', 'Variety_n', 'Style_n', 'Country_n'], axis=1)\n",
    "\n",
    "# Creamos el arbol\n",
    "model = tree.DecisionTreeClassifier()\n",
    "\n",
    "# Lo evaluamos\n",
    "cv = RepeatedStratifiedKFold(n_splits=10, n_repeats=3, random_state=1)\n",
    "n_scores = cross_val_score(model, inputs, outputs, scoring='accuracy', cv=cv, n_jobs=-1, error_score='raise')\n",
    "\n",
    "print('Accuracy: %.3f (%.3f)' % (np.mean(n_scores), np.std(n_scores)))"
   ]
  },
  {
   "cell_type": "markdown",
   "metadata": {},
   "source": [
    "Esto que acabamos de ver sería la forma con parámetros default. Si cambiamos un poco los parámetros como por ejemplo la cantidad de splits del k fold, que sabemos por lecturas que un valor adecuado para hacer clasificación es poner la raíz cuadrada de la cantidad total de inputs como la cantidad de splits. Esto quedaría:"
   ]
  },
  {
   "cell_type": "code",
   "execution_count": 135,
   "metadata": {},
   "outputs": [
    {
     "name": "stdout",
     "output_type": "stream",
     "text": [
      "Accuracy: 0.402 (0.063)\n"
     ]
    }
   ],
   "source": [
    "cant_opt_splits = int(np.sqrt(inputs.shape[0]))\n",
    "\n",
    "cv = RepeatedStratifiedKFold(n_splits=cant_opt_splits, n_repeats=3, random_state=1)\n",
    "n_scores = cross_val_score(model, inputs, outputs, scoring='accuracy', cv=cv, n_jobs=-1, error_score='raise')\n",
    "\n",
    "print('Accuracy: %.3f (%.3f)' % (np.mean(n_scores), np.std(n_scores)))"
   ]
  },
  {
   "cell_type": "markdown",
   "metadata": {},
   "source": [
    "Como podemos observar, un pequeño cambio aumentó aunque sea un poco la presición de nuestro modelo.\n",
    "\n",
    "#### **Random forest**\n",
    "Ahora con los random forest vamos a jugar un poco más con sus parámetros, así que primero definiremos algunos metodos:"
   ]
  },
  {
   "cell_type": "code",
   "execution_count": 144,
   "metadata": {},
   "outputs": [],
   "source": [
    "def evaluate_model(model, X, y):\n",
    "    # define the evaluation procedure\n",
    "    cv = RepeatedStratifiedKFold(n_splits=cant_opt_splits, n_repeats=3, random_state=1)\n",
    "    # evaluate the model and collect the results\n",
    "    scores = cross_val_score(model, X, y, scoring='accuracy', cv=cv, n_jobs=-1)\n",
    "    return scores\n",
    "\n",
    "def get_models_cant_features():\n",
    "    models = dict()\n",
    "    # explore number of features from 1 to 7\n",
    "    for i in range(1,5):\n",
    "        models[str(i)] = RandomForestClassifier(max_features=i)\n",
    "    return models\n",
    "\n",
    "def get_models_number_of_trees():\n",
    "    models = dict()\n",
    "    # define number of trees to consider\n",
    "    n_trees = [10, 50, 100]\n",
    "    for n in n_trees:\n",
    "        models[str(n)] = RandomForestClassifier(n_estimators=n)\n",
    "    return models\n",
    "\n",
    "def get_models_depth():\n",
    "    models = dict()\n",
    "    # consider tree depths from 1 to 7 and None=full\n",
    "    depths = [i for i in range(1,5)] + [None]\n",
    "    for n in depths:\n",
    "        models[str(n)] = RandomForestClassifier(max_depth=n)\n",
    "    return models"
   ]
  },
  {
   "cell_type": "markdown",
   "metadata": {},
   "source": [
    "Ya con estos metodos podemos jugar con los parametros y ver en gráficas que tan buenos parámetros son.\n",
    "Empezaremos jugando con la cantidad de features."
   ]
  },
  {
   "cell_type": "code",
   "execution_count": 145,
   "metadata": {},
   "outputs": [
    {
     "name": "stdout",
     "output_type": "stream",
     "text": [
      ">1 0.420 (0.060)\n",
      ">2 0.418 (0.060)\n",
      ">3 0.419 (0.058)\n",
      ">4 0.417 (0.058)\n"
     ]
    },
    {
     "data": {
      "image/png": "[encoded data removed]",
      "text/plain": [
       "<Figure size 432x288 with 1 Axes>"
      ]
     },
     "metadata": {
      "needs_background": "light"
     },
     "output_type": "display_data"
    }
   ],
   "source": [
    "# get the models to evaluate\n",
    "models = get_models_cant_features()\n",
    "# evaluate the models and store results\n",
    "results, names = list(), list()\n",
    "for name, model in models.items():\n",
    "    # evaluate the model\n",
    "    scores = evaluate_model(model, inputs, outputs)\n",
    "    # store the results\n",
    "    results.append(scores)\n",
    "    names.append(name)\n",
    "    # summarize the performance along the way\n",
    "    print('>%s %.3f (%.3f)' % (name, np.mean(scores), np.std(scores)))\n",
    "# plot model performance for comparison\n",
    "pyplot.boxplot(results, labels=names, showmeans=True)\n",
    "pyplot.show()"
   ]
  },
  {
   "cell_type": "markdown",
   "metadata": {},
   "source": [
    "Como podemos observar, no varía mucho en cuanto a precisión, pero con un máximo de 4 features hay más outliers."
   ]
  },
  {
   "cell_type": "code",
   "execution_count": 146,
   "metadata": {},
   "outputs": [
    {
     "name": "stdout",
     "output_type": "stream",
     "text": [
      ">10 0.413 (0.058)\n",
      ">50 0.418 (0.061)\n",
      ">100 0.421 (0.059)\n"
     ]
    },
    {
     "data": {
      "image/png": "[encoded data removed]",
      "text/plain": [
       "<Figure size 432x288 with 1 Axes>"
      ]
     },
     "metadata": {
      "needs_background": "light"
     },
     "output_type": "display_data"
    }
   ],
   "source": [
    "# get the models to evaluate\n",
    "models = get_models_number_of_trees()\n",
    "# evaluate the models and store results\n",
    "results, names = list(), list()\n",
    "for name, model in models.items():\n",
    "    # evaluate the model\n",
    "    scores = evaluate_model(model, inputs, outputs)\n",
    "    # store the results\n",
    "    results.append(scores)\n",
    "    names.append(name)\n",
    "    # summarize the performance along the way\n",
    "    print('>%s %.3f (%.3f)' % (name, np.mean(scores), np.std(scores)))\n",
    "# plot model performance for comparison\n",
    "pyplot.boxplot(results, labels=names, showmeans=True)\n",
    "pyplot.show()"
   ]
  },
  {
   "cell_type": "markdown",
   "metadata": {},
   "source": [
    "En este caso podemos ver que cuantos más arboles hay, mayor precisión tiene el modelo."
   ]
  },
  {
   "cell_type": "code",
   "execution_count": 148,
   "metadata": {},
   "outputs": [
    {
     "name": "stdout",
     "output_type": "stream",
     "text": [
      ">1 0.405 (0.006)\n",
      ">2 0.405 (0.006)\n",
      ">3 0.407 (0.022)\n",
      ">4 0.421 (0.043)\n",
      ">None 0.421 (0.059)\n"
     ]
    },
    {
     "data": {
      "image/png": "[encoded data removed]",
      "text/plain": [
       "<Figure size 432x288 with 1 Axes>"
      ]
     },
     "metadata": {
      "needs_background": "light"
     },
     "output_type": "display_data"
    }
   ],
   "source": [
    "# get the models to evaluate\n",
    "models = get_models_depth()\n",
    "# evaluate the models and store results\n",
    "results, names = list(), list()\n",
    "for name, model in models.items():\n",
    "    # evaluate the model\n",
    "    scores = evaluate_model(model, inputs, outputs)\n",
    "    # store the results\n",
    "    results.append(scores)\n",
    "    names.append(name)\n",
    "    # summarize the performance along the way\n",
    "    print('>%s %.3f (%.3f)' % (name, np.mean(scores), np.std(scores)))\n",
    "# plot model performance for comparison\n",
    "pyplot.boxplot(results, labels=names, showmeans=True)\n",
    "pyplot.show()"
   ]
  },
  {
   "cell_type": "markdown",
   "metadata": {},
   "source": [
    "Finalmente, podemos observar que si no ponemos una profundidad máxima, nuestro random froest tiene un mejor desempeño que si le llegáramos a poner un limite.\n",
    "\n",
    "### **Conclusión**\n",
    "Como pudimos ver, la escogencia de los parámetros en arboles de decisión y en random forest es de mucha importancia, también pudimos observar que en los random forest nuestro dataset tuvo un mejor desempeño que en el caso de los arboles de decisión.\n",
    "Para concluir, veremos que variables son de mayor importancia en este análisis:"
   ]
  },
  {
   "cell_type": "code",
   "execution_count": 161,
   "metadata": {},
   "outputs": [
    {
     "name": "stderr",
     "output_type": "stream",
     "text": [
      "<ipython-input-161-c324a2b9c593>:4: DataConversionWarning: A column-vector y was passed when a 1d array was expected. Please change the shape of y to (n_samples,), for example using ravel().\n",
      "  model.fit(inputs, outputs)\n"
     ]
    },
    {
     "name": "stdout",
     "output_type": "stream",
     "text": [
      "Feature: 0, Score: 0.22820\n",
      "Feature: 1, Score: 0.59709\n",
      "Feature: 2, Score: 0.06634\n",
      "Feature: 3, Score: 0.10838\n"
     ]
    },
    {
     "data": {
      "image/png": "[encoded data removed]",
      "text/plain": [
       "<Figure size 432x288 with 1 Axes>"
      ]
     },
     "metadata": {
      "needs_background": "light"
     },
     "output_type": "display_data"
    },
    {
     "data": {
      "text/html": [
       "<div>\n",
       "<style scoped>\n",
       "    .dataframe tbody tr th:only-of-type {\n",
       "        vertical-align: middle;\n",
       "    }\n",
       "\n",
       "    .dataframe tbody tr th {\n",
       "        vertical-align: top;\n",
       "    }\n",
       "\n",
       "    .dataframe thead th {\n",
       "        text-align: right;\n",
       "    }\n",
       "</style>\n",
       "<table border=\"1\" class=\"dataframe\">\n",
       "  <thead>\n",
       "    <tr style=\"text-align: right;\">\n",
       "      <th></th>\n",
       "      <th>Brand</th>\n",
       "      <th>Variety</th>\n",
       "      <th>Style</th>\n",
       "      <th>Country</th>\n",
       "      <th>Brand_n</th>\n",
       "      <th>Variety_n</th>\n",
       "      <th>Style_n</th>\n",
       "      <th>Country_n</th>\n",
       "    </tr>\n",
       "  </thead>\n",
       "  <tbody>\n",
       "    <tr>\n",
       "      <th>0</th>\n",
       "      <td>New Touch</td>\n",
       "      <td>T's Restaurant Tantanmen</td>\n",
       "      <td>Cup</td>\n",
       "      <td>Japan</td>\n",
       "      <td>190</td>\n",
       "      <td>2189</td>\n",
       "      <td>4</td>\n",
       "      <td>18</td>\n",
       "    </tr>\n",
       "    <tr>\n",
       "      <th>1</th>\n",
       "      <td>Just Way</td>\n",
       "      <td>Noodles Spicy Hot Sesame Spicy Hot Sesame Guan...</td>\n",
       "      <td>Pack</td>\n",
       "      <td>Taiwan</td>\n",
       "      <td>119</td>\n",
       "      <td>1443</td>\n",
       "      <td>5</td>\n",
       "      <td>32</td>\n",
       "    </tr>\n",
       "    <tr>\n",
       "      <th>2</th>\n",
       "      <td>Nissin</td>\n",
       "      <td>Cup Noodles Chicken Vegetable</td>\n",
       "      <td>Cup</td>\n",
       "      <td>USA</td>\n",
       "      <td>192</td>\n",
       "      <td>454</td>\n",
       "      <td>4</td>\n",
       "      <td>35</td>\n",
       "    </tr>\n",
       "    <tr>\n",
       "      <th>3</th>\n",
       "      <td>Wei Lih</td>\n",
       "      <td>GGE Ramen Snack Tomato Flavor</td>\n",
       "      <td>Pack</td>\n",
       "      <td>Taiwan</td>\n",
       "      <td>336</td>\n",
       "      <td>709</td>\n",
       "      <td>5</td>\n",
       "      <td>32</td>\n",
       "    </tr>\n",
       "    <tr>\n",
       "      <th>4</th>\n",
       "      <td>Ching's Secret</td>\n",
       "      <td>Singapore Curry</td>\n",
       "      <td>Pack</td>\n",
       "      <td>India</td>\n",
       "      <td>38</td>\n",
       "      <td>1954</td>\n",
       "      <td>5</td>\n",
       "      <td>16</td>\n",
       "    </tr>\n",
       "  </tbody>\n",
       "</table>\n",
       "</div>"
      ],
      "text/plain": [
       "            Brand                                            Variety Style  \\\n",
       "0       New Touch                          T's Restaurant Tantanmen    Cup   \n",
       "1        Just Way  Noodles Spicy Hot Sesame Spicy Hot Sesame Guan...  Pack   \n",
       "2          Nissin                      Cup Noodles Chicken Vegetable   Cup   \n",
       "3         Wei Lih                      GGE Ramen Snack Tomato Flavor  Pack   \n",
       "4  Ching's Secret                                    Singapore Curry  Pack   \n",
       "\n",
       "  Country  Brand_n  Variety_n  Style_n  Country_n  \n",
       "0   Japan      190       2189        4         18  \n",
       "1  Taiwan      119       1443        5         32  \n",
       "2     USA      192        454        4         35  \n",
       "3  Taiwan      336        709        5         32  \n",
       "4   India       38       1954        5         16  "
      ]
     },
     "execution_count": 161,
     "metadata": {},
     "output_type": "execute_result"
    }
   ],
   "source": [
    "# define the model\n",
    "model = RandomForestClassifier()\n",
    "# fit the model\n",
    "model.fit(inputs, outputs)\n",
    "# get importance\n",
    "importance = model.feature_importances_\n",
    "# summarize feature importance\n",
    "for i,v in enumerate(importance):\n",
    "    print('Feature: %0d, Score: %.5f' % (i,v))\n",
    "# plot feature importance\n",
    "pyplot.bar([x for x in range(len(importance))], importance)\n",
    "pyplot.show()\n",
    "\n",
    "codificacion.head()"
   ]
  },
  {
   "cell_type": "markdown",
   "metadata": {},
   "source": [
    "Como podemos observar en la gráfica y la codificación, se puede decir que el atributo más importante a la hora de saber si un ramen es bueno o no es \"Variety\" seguido de \"Brand\" y los otros dos atributos no parecen tener mayor importancia."
   ]
  },
  {
   "cell_type": "code",
   "execution_count": null,
   "metadata": {},
   "outputs": [],
   "source": []
  }
 ],
 "metadata": {
  "kernelspec": {
   "display_name": "Python 3",
   "language": "python",
   "name": "python3"
  },
  "language_info": {
   "codemirror_mode": {
    "name": "ipython",
    "version": 3
   },
   "file_extension": ".py",
   "mimetype": "text/x-python",
   "name": "python",
   "nbconvert_exporter": "python",
   "pygments_lexer": "ipython3",
   "version": "3.8.5"
  }
 },
 "nbformat": 4,
 "nbformat_minor": 4
}
